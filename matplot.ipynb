{
  "nbformat": 4,
  "nbformat_minor": 0,
  "metadata": {
    "colab": {
      "name": "matplot.ipynb",
      "provenance": [],
      "collapsed_sections": [],
      "authorship_tag": "ABX9TyPDP19i5BwuUFrj0VXnD+PU",
      "include_colab_link": true
    },
    "kernelspec": {
      "name": "python3",
      "display_name": "Python 3"
    }
  },
  "cells": [
    {
      "cell_type": "markdown",
      "metadata": {
        "id": "view-in-github",
        "colab_type": "text"
      },
      "source": [
        "<a href=\"https://colab.research.google.com/github/rabbitew/ai-practice/blob/main/matplot.ipynb\" target=\"_parent\"><img src=\"https://colab.research.google.com/assets/colab-badge.svg\" alt=\"Open In Colab\"/></a>"
      ]
    },
    {
      "cell_type": "code",
      "metadata": {
        "id": "Z3U5xV5c2Gns"
      },
      "source": [
        "import matplotlib\r\n",
        "import matplotlib.pyplot as plt\r\n",
        "%matplotlib nbagg\r\n",
        "%matplotlib inline"
      ],
      "execution_count": null,
      "outputs": []
    },
    {
      "cell_type": "code",
      "metadata": {
        "id": "B9d57THJ3Ezs"
      },
      "source": [
        "import numpy as np\r\n",
        "import pandas as pd"
      ],
      "execution_count": null,
      "outputs": []
    },
    {
      "cell_type": "code",
      "metadata": {
        "colab": {
          "base_uri": "https://localhost:8080/"
        },
        "id": "bqjp-3Hd27HY",
        "outputId": "b2dcac29-a04d-4228-9457-4b33b7696ec5"
      },
      "source": [
        "s = pd.Series(np.random.randn(10).cumsum(), index = np.arange(0,100,10))\r\n",
        "s"
      ],
      "execution_count": null,
      "outputs": [
        {
          "output_type": "execute_result",
          "data": {
            "text/plain": [
              "0    -0.851971\n",
              "10   -1.763036\n",
              "20   -1.022743\n",
              "30   -1.197018\n",
              "40    0.195556\n",
              "50    0.428089\n",
              "60    2.430666\n",
              "70    2.825322\n",
              "80    2.574202\n",
              "90    4.567854\n",
              "dtype: float64"
            ]
          },
          "metadata": {
            "tags": []
          },
          "execution_count": 4
        }
      ]
    },
    {
      "cell_type": "code",
      "metadata": {
        "colab": {
          "base_uri": "https://localhost:8080/",
          "height": 282
        },
        "id": "xOIwZSXC3fUu",
        "outputId": "aa34d4dd-9cdf-46a9-8a45-25d2ca3f90a1"
      },
      "source": [
        "s.plot()"
      ],
      "execution_count": null,
      "outputs": [
        {
          "output_type": "execute_result",
          "data": {
            "text/plain": [
              "<matplotlib.axes._subplots.AxesSubplot at 0x7ff61b1ea5c0>"
            ]
          },
          "metadata": {
            "tags": []
          },
          "execution_count": 5
        },
        {
          "output_type": "display_data",
          "data": {
            "image/png": "[encoded data removed]",
            "text/plain": [
              "<Figure size 432x288 with 1 Axes>"
            ]
          },
          "metadata": {
            "tags": [],
            "needs_background": "light"
          }
        }
      ]
    },
    {
      "cell_type": "code",
      "metadata": {
        "colab": {
          "base_uri": "https://localhost:8080/"
        },
        "id": "8wtKnV3I3mFU",
        "outputId": "43c2521e-7794-4197-dff5-26a6fe07cb54"
      },
      "source": [
        "s2 = pd.Series(np.random.rand(16), index = list(\"abcdefghijklmnop\"))\r\n",
        "s2"
      ],
      "execution_count": null,
      "outputs": [
        {
          "output_type": "execute_result",
          "data": {
            "text/plain": [
              "a    0.355214\n",
              "b    0.557080\n",
              "c    0.033786\n",
              "d    0.871825\n",
              "e    0.207118\n",
              "f    0.105378\n",
              "g    0.959550\n",
              "h    0.612815\n",
              "i    0.059014\n",
              "j    0.250345\n",
              "k    0.240058\n",
              "l    0.526875\n",
              "m    0.704052\n",
              "n    0.627779\n",
              "o    0.601112\n",
              "p    0.950890\n",
              "dtype: float64"
            ]
          },
          "metadata": {
            "tags": []
          },
          "execution_count": 7
        }
      ]
    },
    {
      "cell_type": "code",
      "metadata": {
        "colab": {
          "base_uri": "https://localhost:8080/",
          "height": 285
        },
        "id": "KmYEKE1j4TPH",
        "outputId": "ae3fe189-7843-4d3f-d4cc-eaa4c0bad2cd"
      },
      "source": [
        "s2.plot(kind='bar')"
      ],
      "execution_count": null,
      "outputs": [
        {
          "output_type": "execute_result",
          "data": {
            "text/plain": [
              "<matplotlib.axes._subplots.AxesSubplot at 0x7ff612e987b8>"
            ]
          },
          "metadata": {
            "tags": []
          },
          "execution_count": 9
        },
        {
          "output_type": "display_data",
          "data": {
            "image/png": "[encoded data removed]",
            "text/plain": [
              "<Figure size 432x288 with 1 Axes>"
            ]
          },
          "metadata": {
            "tags": [],
            "needs_background": "light"
          }
        }
      ]
    },
    {
      "cell_type": "code",
      "metadata": {
        "colab": {
          "base_uri": "https://localhost:8080/"
        },
        "id": "GYCvM_Ms457b",
        "outputId": "b3b19db1-6931-448f-a584-7eca8a9ecb35"
      },
      "source": [
        "x1 = np.random.normal(1,1,size=(100,1))\r\n",
        "x2 = np.random.normal(-2,4,size=(100,1))\r\n",
        "x = np.concatenate((x1,x2), axis = 1)\r\n",
        "x"
      ],
      "execution_count": null,
      "outputs": [
        {
          "output_type": "execute_result",
          "data": {
            "text/plain": [
              "array([[  1.6103643 ,  -0.58106756],\n",
              "       [  0.87798692,   2.90824414],\n",
              "       [  1.54502636,  -5.27310877],\n",
              "       [  1.97948282,  -6.36376327],\n",
              "       [  1.16662156,  -1.00419059],\n",
              "       [  1.28969058,  -5.42346599],\n",
              "       [ -0.84293484,  -7.02807552],\n",
              "       [  1.45983961,  -3.59641708],\n",
              "       [  0.5979632 ,  -0.72683479],\n",
              "       [  1.06613303,   0.49326953],\n",
              "       [  1.2951532 ,  -3.39879492],\n",
              "       [ -0.05208109,   0.51194416],\n",
              "       [  1.88674604,   1.30445329],\n",
              "       [  2.36278847,   2.23482073],\n",
              "       [  0.37390004,  -7.1862364 ],\n",
              "       [  3.15840548,  -2.80226622],\n",
              "       [  3.75604383,  -4.13677537],\n",
              "       [  0.80522594,  -6.92736554],\n",
              "       [  0.89639421,   2.24227212],\n",
              "       [  0.3297387 ,   6.76282474],\n",
              "       [  1.67880975,  -2.52821793],\n",
              "       [  2.44366136,  -8.51344486],\n",
              "       [ -0.67529549,   0.60122416],\n",
              "       [ -0.37368729,  -4.93238613],\n",
              "       [  1.58106321,   0.32137563],\n",
              "       [  1.93797418,  -4.52993494],\n",
              "       [  1.15605338,  -4.75065398],\n",
              "       [  1.78057483,  -4.25144012],\n",
              "       [  0.69046033,  -0.66904341],\n",
              "       [  0.38625836,  -2.34900958],\n",
              "       [ -0.85134088,  -2.73234316],\n",
              "       [  0.03793939,  -0.61413577],\n",
              "       [  1.23879105,   4.23517976],\n",
              "       [  0.98373929,  -2.41835595],\n",
              "       [  0.80207281,  -1.85513796],\n",
              "       [  0.42038552,   1.35052752],\n",
              "       [ -1.32941222,  -9.25430376],\n",
              "       [  2.40053469,  -0.65509797],\n",
              "       [  3.24172841,  -2.39544565],\n",
              "       [  0.9974484 ,  -7.59571375],\n",
              "       [  0.29570019,  -0.49366367],\n",
              "       [  2.11607159,  -4.57902402],\n",
              "       [  0.72581742,  -1.40314256],\n",
              "       [  0.78243388,   5.29853517],\n",
              "       [  1.1800012 ,   3.25994282],\n",
              "       [  1.57222329,   2.75405296],\n",
              "       [  2.49071825,  -2.72041539],\n",
              "       [  2.08095912,  -2.04577496],\n",
              "       [  1.1412176 ,  -2.5704235 ],\n",
              "       [  1.47182975,   4.84572453],\n",
              "       [  0.45567324,  -5.14770753],\n",
              "       [ -0.56138551,  -5.13353666],\n",
              "       [  1.18450705,  -1.62029883],\n",
              "       [  0.68741673,   1.16289792],\n",
              "       [  1.25476806,   0.08004106],\n",
              "       [  1.9548188 ,  -9.02014369],\n",
              "       [ -0.91925126,   3.66719518],\n",
              "       [  2.16228697,  -1.50219931],\n",
              "       [  0.1057921 ,  -6.66257966],\n",
              "       [  2.13784778,  -4.80122556],\n",
              "       [  1.78623044,  -6.74686709],\n",
              "       [  1.70240535,  -3.35393162],\n",
              "       [  1.89935144,  -5.61027248],\n",
              "       [  1.23120152,  -2.48723818],\n",
              "       [  0.25485796,  -0.75317293],\n",
              "       [  1.23486205,   0.41617255],\n",
              "       [ -1.33476319,  -5.4324239 ],\n",
              "       [  1.14556547, -10.06349519],\n",
              "       [  2.10675937,  -1.9289144 ],\n",
              "       [  1.86946057,   5.12014898],\n",
              "       [  1.59028456,  -3.25061301],\n",
              "       [  0.68367647,  -2.36716729],\n",
              "       [  1.34873572,  -6.55693735],\n",
              "       [  0.09140798,  -5.00897323],\n",
              "       [  1.09413158,   1.72241142],\n",
              "       [  0.66049888,   5.13164803],\n",
              "       [  0.49644262, -10.80909957],\n",
              "       [  2.04233615,  -3.15386106],\n",
              "       [  1.12154862,  -6.10006742],\n",
              "       [  2.41082507,  -7.47280388],\n",
              "       [  1.01484732,  -3.34152829],\n",
              "       [  0.03229974,   3.12377092],\n",
              "       [  1.6157197 ,  -7.16802013],\n",
              "       [  1.32884715,   0.73148091],\n",
              "       [  0.36895863,   2.28310825],\n",
              "       [  1.74958513,   1.12053527],\n",
              "       [  2.28267255,   9.48783893],\n",
              "       [  0.65749167,  -4.65344625],\n",
              "       [ -1.10908453,  -0.67909416],\n",
              "       [  0.61520392,  -3.91569597],\n",
              "       [  0.40688812,  -5.79242961],\n",
              "       [  1.61189204,  -7.80571236],\n",
              "       [  1.71790933,   0.04597284],\n",
              "       [  0.70175409,  -3.49078505],\n",
              "       [  0.49347217,  -1.32806881],\n",
              "       [  1.04039785,  -3.29501325],\n",
              "       [  0.55385796,  -1.10221544],\n",
              "       [  1.25454959,   3.92772748],\n",
              "       [  1.87119211,  -5.48808591],\n",
              "       [  2.00888584,  -6.41808259]])"
            ]
          },
          "metadata": {
            "tags": []
          },
          "execution_count": 11
        }
      ]
    },
    {
      "cell_type": "code",
      "metadata": {
        "colab": {
          "base_uri": "https://localhost:8080/",
          "height": 402
        },
        "id": "oZgk5Y5-5h07",
        "outputId": "80a59bff-80ce-4310-c7f6-523286e1c90a"
      },
      "source": [
        "df3 = pd.DataFrame(x, columns=[\"x1\",\"x2\"])\r\n",
        "df3"
      ],
      "execution_count": null,
      "outputs": [
        {
          "output_type": "execute_result",
          "data": {
            "text/html": [
              "<div>\n",
              "<style scoped>\n",
              "    .dataframe tbody tr th:only-of-type {\n",
              "        vertical-align: middle;\n",
              "    }\n",
              "\n",
              "    .dataframe tbody tr th {\n",
              "        vertical-align: top;\n",
              "    }\n",
              "\n",
              "    .dataframe thead th {\n",
              "        text-align: right;\n",
              "    }\n",
              "</style>\n",
              "<table border=\"1\" class=\"dataframe\">\n",
              "  <thead>\n",
              "    <tr style=\"text-align: right;\">\n",
              "      <th></th>\n",
              "      <th>x1</th>\n",
              "      <th>x2</th>\n",
              "    </tr>\n",
              "  </thead>\n",
              "  <tbody>\n",
              "    <tr>\n",
              "      <th>0</th>\n",
              "      <td>1.610364</td>\n",
              "      <td>-0.581068</td>\n",
              "    </tr>\n",
              "    <tr>\n",
              "      <th>1</th>\n",
              "      <td>0.877987</td>\n",
              "      <td>2.908244</td>\n",
              "    </tr>\n",
              "    <tr>\n",
              "      <th>2</th>\n",
              "      <td>1.545026</td>\n",
              "      <td>-5.273109</td>\n",
              "    </tr>\n",
              "    <tr>\n",
              "      <th>3</th>\n",
              "      <td>1.979483</td>\n",
              "      <td>-6.363763</td>\n",
              "    </tr>\n",
              "    <tr>\n",
              "      <th>4</th>\n",
              "      <td>1.166622</td>\n",
              "      <td>-1.004191</td>\n",
              "    </tr>\n",
              "    <tr>\n",
              "      <th>...</th>\n",
              "      <td>...</td>\n",
              "      <td>...</td>\n",
              "    </tr>\n",
              "    <tr>\n",
              "      <th>95</th>\n",
              "      <td>1.040398</td>\n",
              "      <td>-3.295013</td>\n",
              "    </tr>\n",
              "    <tr>\n",
              "      <th>96</th>\n",
              "      <td>0.553858</td>\n",
              "      <td>-1.102215</td>\n",
              "    </tr>\n",
              "    <tr>\n",
              "      <th>97</th>\n",
              "      <td>1.254550</td>\n",
              "      <td>3.927727</td>\n",
              "    </tr>\n",
              "    <tr>\n",
              "      <th>98</th>\n",
              "      <td>1.871192</td>\n",
              "      <td>-5.488086</td>\n",
              "    </tr>\n",
              "    <tr>\n",
              "      <th>99</th>\n",
              "      <td>2.008886</td>\n",
              "      <td>-6.418083</td>\n",
              "    </tr>\n",
              "  </tbody>\n",
              "</table>\n",
              "<p>100 rows × 2 columns</p>\n",
              "</div>"
            ],
            "text/plain": [
              "          x1        x2\n",
              "0   1.610364 -0.581068\n",
              "1   0.877987  2.908244\n",
              "2   1.545026 -5.273109\n",
              "3   1.979483 -6.363763\n",
              "4   1.166622 -1.004191\n",
              "..       ...       ...\n",
              "95  1.040398 -3.295013\n",
              "96  0.553858 -1.102215\n",
              "97  1.254550  3.927727\n",
              "98  1.871192 -5.488086\n",
              "99  2.008886 -6.418083\n",
              "\n",
              "[100 rows x 2 columns]"
            ]
          },
          "metadata": {
            "tags": []
          },
          "execution_count": 12
        }
      ]
    },
    {
      "cell_type": "code",
      "metadata": {
        "colab": {
          "base_uri": "https://localhost:8080/",
          "height": 282
        },
        "id": "dfmedQS_5v6i",
        "outputId": "2bf51646-bcfa-4901-cdf8-8cc356ca8155"
      },
      "source": [
        "plt.scatter(df3['x1'], df3['x2'])"
      ],
      "execution_count": null,
      "outputs": [
        {
          "output_type": "execute_result",
          "data": {
            "text/plain": [
              "<matplotlib.collections.PathCollection at 0x7ff612a18e10>"
            ]
          },
          "metadata": {
            "tags": []
          },
          "execution_count": 13
        },
        {
          "output_type": "display_data",
          "data": {
            "image/png": "[encoded data removed]",
            "text/plain": [
              "<Figure size 432x288 with 1 Axes>"
            ]
          },
          "metadata": {
            "tags": [],
            "needs_background": "light"
          }
        }
      ]
    },
    {
      "cell_type": "code",
      "metadata": {
        "colab": {
          "base_uri": "https://localhost:8080/",
          "height": 378
        },
        "id": "72iVXoBm55pT",
        "outputId": "77b4ccfd-8df7-47a9-86ca-01f34274e022"
      },
      "source": [
        "plt.figure(figsize=(10,6)) #10*6 크기의 도화지\r\n",
        "\r\n",
        "plt.subplot(2,2,1) # 그 도화지를 2*2로 나눈 부분의 첫번째 부분에 그리기\r\n",
        "plt.subplot(2,2,2)\r\n",
        "plt.subplot(2,2,3)\r\n",
        "\r\n",
        "plt.show()"
      ],
      "execution_count": null,
      "outputs": [
        {
          "output_type": "display_data",
          "data": {
            "image/png": "[encoded data removed]",
            "text/plain": [
              "<Figure size 720x432 with 3 Axes>"
            ]
          },
          "metadata": {
            "tags": [],
            "needs_background": "light"
          }
        }
      ]
    },
    {
      "cell_type": "code",
      "metadata": {
        "colab": {
          "base_uri": "https://localhost:8080/",
          "height": 378
        },
        "id": "VeJcNqlc6s3R",
        "outputId": "3b5d9d67-bda4-492a-8f82-1fb561545b7f"
      },
      "source": [
        "#.생략도 가능\r\n",
        "plt.figure(figsize=(10,6)) #10*6 크기의 도화지\r\n",
        "\r\n",
        "plt.subplot(411) # 그 도화지를 4*1로 잡은 공간 중 첫번째\r\n",
        "plt.subplot(423)\r\n",
        "plt.subplot(424)\r\n",
        "plt.subplot(413)\r\n",
        "plt.subplot(414)\r\n",
        "\r\n",
        "plt.show()"
      ],
      "execution_count": null,
      "outputs": [
        {
          "output_type": "display_data",
          "data": {
            "image/png": "[encoded data removed]",
            "text/plain": [
              "<Figure size 720x432 with 5 Axes>"
            ]
          },
          "metadata": {
            "tags": [],
            "needs_background": "light"
          }
        }
      ]
    },
    {
      "cell_type": "code",
      "metadata": {
        "colab": {
          "base_uri": "https://localhost:8080/",
          "height": 568
        },
        "id": "RCARayOH7rMY",
        "outputId": "c056cb20-b896-4709-ff85-dcd2300aee57"
      },
      "source": [
        "t = np.arange(0,5,0.01) # 가상의 정의역\r\n",
        "\r\n",
        "plt.figure(figsize = (10,12))\r\n",
        "\r\n",
        "plt.subplot(4,1,1)\r\n",
        "plt.plot(t, np.sqrt(t))\r\n",
        "plt.grid()\r\n",
        "\r\n",
        "plt.subplot(4,2,3)\r\n",
        "plt.plot(t, t**2)\r\n",
        "plt.grid()\r\n",
        "\r\n",
        "plt.subplot(4,2,4)\r\n",
        "plt.plot(t, t**3)\r\n",
        "#plt.grid()\r\n",
        "\r\n",
        "plt.subplot(4,1,3)\r\n",
        "plt.plot(t, np.sin(t))\r\n",
        "#plt.grid()\r\n",
        "plt.subplot(4,1,3)\r\n",
        "plt.plot(t, np.cos(t))\r\n",
        "#plt.grid()\r\n",
        "\r\n",
        "plt.show()"
      ],
      "execution_count": null,
      "outputs": [
        {
          "output_type": "stream",
          "text": [
            "/usr/local/lib/python3.6/dist-packages/ipykernel_launcher.py:20: MatplotlibDeprecationWarning: Adding an axes using the same arguments as a previous axes currently reuses the earlier instance.  In a future version, a new instance will always be created and returned.  Meanwhile, this warning can be suppressed, and the future behavior ensured, by passing a unique label to each axes instance.\n"
          ],
          "name": "stderr"
        },
        {
          "output_type": "display_data",
          "data": {
            "image/png": "[encoded data removed]",
            "text/plain": [
              "<Figure size 720x864 with 4 Axes>"
            ]
          },
          "metadata": {
            "tags": [],
            "needs_background": "light"
          }
        }
      ]
    }
  ]
}