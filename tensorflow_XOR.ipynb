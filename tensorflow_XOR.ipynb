{
  "nbformat": 4,
  "nbformat_minor": 0,
  "metadata": {
    "colab": {
      "name": "tensorflow_XOR",
      "provenance": [],
      "collapsed_sections": [],
      "authorship_tag": "ABX9TyPA3EfGC1S9PNxVbde89ly2",
      "include_colab_link": true
    },
    "kernelspec": {
      "name": "python3",
      "display_name": "Python 3"
    }
  },
  "cells": [
    {
      "cell_type": "markdown",
      "metadata": {
        "id": "view-in-github",
        "colab_type": "text"
      },
      "source": [
        "<a href=\"https://colab.research.google.com/github/rabbitew/ai-practice/blob/main/tensorflow_XOR.ipynb\" target=\"_parent\"><img src=\"https://colab.research.google.com/assets/colab-badge.svg\" alt=\"Open In Colab\"/></a>"
      ]
    },
    {
      "cell_type": "code",
      "metadata": {
        "colab": {
          "base_uri": "https://localhost:8080/"
        },
        "id": "21J1wbYE8owP",
        "outputId": "3b9fe9c1-0794-4c13-8a80-1de4185590e0"
      },
      "source": [
        "import tensorflow as tf\r\n",
        "import numpy as np\r\n",
        "\r\n",
        "#v1과 호환성\r\n",
        "import tensorflow.compat.v1 as tf\r\n",
        "tf.disable_v2_behavior()"
      ],
      "execution_count": null,
      "outputs": [
        {
          "output_type": "stream",
          "text": [
            "WARNING:tensorflow:From /usr/local/lib/python3.6/dist-packages/tensorflow/python/compat/v2_compat.py:96: disable_resource_variables (from tensorflow.python.ops.variable_scope) is deprecated and will be removed in a future version.\n",
            "Instructions for updating:\n",
            "non-resource variables are not supported in the long term\n"
          ],
          "name": "stdout"
        }
      ]
    },
    {
      "cell_type": "code",
      "metadata": {
        "id": "-OaYar2y8tCC"
      },
      "source": [
        "learning_rate = 0.1\r\n",
        "x_data = [[0,0], [0,1], [1,0], [1,1]]\r\n",
        "y_data = [[0], [1], [1], [0]]\r\n",
        "x_data = np.array(x_data, dtype=np.float32)\r\n",
        "y_data = np.array(y_data, dtype=np.float32)"
      ],
      "execution_count": null,
      "outputs": []
    },
    {
      "cell_type": "code",
      "metadata": {
        "id": "BkRzqMZp9KXn"
      },
      "source": [
        "X = tf.placeholder(tf.float32, [None,2])\r\n",
        "Y = tf.placeholder(tf.float32, [None,1])\r\n",
        "\r\n",
        "W1 = tf.Variable(tf.random_normal([2,2]), name = 'weight1')\r\n",
        "b1 = tf.Variable(tf.random_normal([2]), name = 'bias1')\r\n",
        "layer1 = tf.sigmoid(tf.matmul(X, W1)+b1)"
      ],
      "execution_count": null,
      "outputs": []
    },
    {
      "cell_type": "code",
      "metadata": {
        "id": "sfEBAdwD90o3"
      },
      "source": [
        "W2 = tf.Variable(tf.random_normal([2,2]), name = 'weight2')\r\n",
        "b2 = tf.Variable(tf.random_normal([1]), name = 'bias2')\r\n",
        "hypothesis = tf.sigmoid(tf.matmul(layer1, W2)+b2) # 최종 예측치"
      ],
      "execution_count": null,
      "outputs": []
    },
    {
      "cell_type": "code",
      "metadata": {
        "id": "J23KbVKr-V0I"
      },
      "source": [
        "cost = -tf.reduce_mean(Y*tf.log(hypothesis) + (1-Y)*tf.log(1-hypothesis))\r\n",
        "train = tf.train.GradientDescentOptimizer(learning-rate).minimize(cost)"
      ],
      "execution_count": null,
      "outputs": []
    },
    {
      "cell_type": "code",
      "metadata": {
        "id": "HZWCnoU--WF1"
      },
      "source": [
        ""
      ],
      "execution_count": null,
      "outputs": []
    }
  ]
}