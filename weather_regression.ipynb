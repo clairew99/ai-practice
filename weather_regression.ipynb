{
  "nbformat": 4,
  "nbformat_minor": 0,
  "metadata": {
    "colab": {
      "name": "weather_regression.ipynb",
      "provenance": [],
      "collapsed_sections": [],
      "authorship_tag": "ABX9TyODVNZaX1+LA4vxMKfXyJdU",
      "include_colab_link": true
    },
    "kernelspec": {
      "name": "python3",
      "display_name": "Python 3"
    }
  },
  "cells": [
    {
      "cell_type": "markdown",
      "metadata": {
        "id": "view-in-github",
        "colab_type": "text"
      },
      "source": [
        "<a href=\"https://colab.research.google.com/github/rabbitew/ai-practice/blob/main/weather_regression.ipynb\" target=\"_parent\"><img src=\"https://colab.research.google.com/assets/colab-badge.svg\" alt=\"Open In Colab\"/></a>"
      ]
    },
    {
      "cell_type": "code",
      "metadata": {
        "colab": {
          "base_uri": "https://localhost:8080/"
        },
        "id": "76sYfRepKuuR",
        "outputId": "3afd66b7-b886-492e-8ff8-84b41ae0958f"
      },
      "source": [
        "import tensorflow as tf\r\n",
        "import numpy as np\r\n",
        "import matplotlib.pyplot as plt\r\n",
        "\r\n",
        "import tensorflow.compat.v1 as tf\r\n",
        "tf.disable_v2_behavior()"
      ],
      "execution_count": null,
      "outputs": [
        {
          "output_type": "stream",
          "text": [
            "WARNING:tensorflow:From /usr/local/lib/python3.6/dist-packages/tensorflow/python/compat/v2_compat.py:96: disable_resource_variables (from tensorflow.python.ops.variable_scope) is deprecated and will be removed in a future version.\n",
            "Instructions for updating:\n",
            "non-resource variables are not supported in the long term\n"
          ],
          "name": "stdout"
        }
      ]
    },
    {
      "cell_type": "code",
      "metadata": {
        "id": "5IUEbgFTMDJe"
      },
      "source": [
        "x = tf.placeholder(tf.float32, [None,5])\r\n",
        "w = tf.Variable(tf.zeros([5,1]))\r\n",
        "y = tf.matmul(x,w)\r\n",
        "t = tf.placeholder(tf.float32, [None,1]) # target\r\n",
        "loss = tf.reduce_sum(tf.square(y-t)) # 손실함수\r\n",
        "train_step = tf.train.AdamOptimizer().minimize(loss)"
      ],
      "execution_count": null,
      "outputs": []
    },
    {
      "cell_type": "code",
      "metadata": {
        "colab": {
          "base_uri": "https://localhost:8080/"
        },
        "id": "GmPeRF6xNA9a",
        "outputId": "3f409202-9890-4e17-b1c5-123ac36a63ed"
      },
      "source": [
        "sess = tf.Session()\r\n",
        "sess.run(tf.initialize_all_variables())"
      ],
      "execution_count": null,
      "outputs": [
        {
          "output_type": "stream",
          "text": [
            "WARNING:tensorflow:From /usr/local/lib/python3.6/dist-packages/tensorflow/python/util/tf_should_use.py:247: initialize_all_variables (from tensorflow.python.ops.variables) is deprecated and will be removed after 2017-03-02.\n",
            "Instructions for updating:\n",
            "Use `tf.global_variables_initializer` instead.\n"
          ],
          "name": "stdout"
        }
      ]
    },
    {
      "cell_type": "code",
      "metadata": {
        "id": "5RWC4LlaNJR_"
      },
      "source": [
        "# 훈련에 참여시킬 데이터들 1월부터 12월 까지의 기온\r\n",
        "train_t = np.array([5.2, 5.7, 8.6, 14.9, 18.2, 20.4,\r\n",
        "                    25.5, 26.4, 22.8, 17.5, 11.1, 6.6])\r\n",
        "train_t = train_t.reshape([12,1])\r\n",
        "train_x = np.zeros([12,5])\r\n",
        "for row, month in enumerate(range(1,13)) :\r\n",
        "  for col, n in enumerate(range(0,5)):\r\n",
        "    train_x[row][col] = month**n"
      ],
      "execution_count": null,
      "outputs": []
    },
    {
      "cell_type": "code",
      "metadata": {
        "colab": {
          "base_uri": "https://localhost:8080/"
        },
        "id": "e54qkH8qnOcr",
        "outputId": "a76e843e-3af7-46ad-ba09-513a705c55f6"
      },
      "source": [
        "i=0\r\n",
        "for _ in range(100000) :\r\n",
        "  i += 1\r\n",
        "  sess.run(train_step, feed_dict = {x : train_x, t : train_t})\r\n",
        "\r\n",
        "  if i%10000 == 0 :\r\n",
        "    loss_val = sess.run(loss, feed_dict={x:train_x, t:train_t})\r\n",
        "    print('Step : %d, Loss : %f' % (i, loss_val))"
      ],
      "execution_count": null,
      "outputs": [
        {
          "output_type": "stream",
          "text": [
            "Step : 10000, Loss : 26.127228\n",
            "Step : 20000, Loss : 25.076778\n",
            "Step : 30000, Loss : 23.937796\n",
            "Step : 40000, Loss : 23.069298\n",
            "Step : 50000, Loss : 22.430302\n",
            "Step : 60000, Loss : 21.777359\n",
            "Step : 70000, Loss : 21.019220\n",
            "Step : 80000, Loss : 20.188745\n",
            "Step : 90000, Loss : 19.662178\n",
            "Step : 100000, Loss : 19.050169\n"
          ],
          "name": "stdout"
        }
      ]
    },
    {
      "cell_type": "code",
      "metadata": {
        "colab": {
          "base_uri": "https://localhost:8080/"
        },
        "id": "9g-LStGko17o",
        "outputId": "a5df48ae-364d-4c5e-d548-0d187a5396c8"
      },
      "source": [
        "w_val = sess.run(w)\r\n",
        "print(w_val)"
      ],
      "execution_count": null,
      "outputs": [
        {
          "output_type": "stream",
          "text": [
            "[[ 4.780775  ]\n",
            " [-2.653796  ]\n",
            " [ 2.0998633 ]\n",
            " [-0.23613387]\n",
            " [ 0.00665597]]\n"
          ],
          "name": "stdout"
        }
      ]
    },
    {
      "cell_type": "code",
      "metadata": {
        "id": "ctZlJzVao8Cq"
      },
      "source": [
        "# 그래프\r\n",
        "\r\n",
        "def predict(x) :\r\n",
        "  result = 0.0\r\n",
        "  for n in range(0,5) :\r\n",
        "    result += w_val[n][0] * x**n\r\n",
        "  return result"
      ],
      "execution_count": null,
      "outputs": []
    },
    {
      "cell_type": "code",
      "metadata": {
        "colab": {
          "base_uri": "https://localhost:8080/",
          "height": 282
        },
        "id": "dFCfdMu-p04E",
        "outputId": "218dc716-eac2-453d-f5fc-f27ad77e44d6"
      },
      "source": [
        "fig = plt.figure()\r\n",
        "subplot = fig.add_subplot(1,1,1)\r\n",
        "subplot.set_xlim(1,12)\r\n",
        "subplot.scatter(range(1,13), train_t)\r\n",
        "linex = np.linspace(1,12,100)\r\n",
        "liney = predict(linex)\r\n",
        "subplot.plot(linex, liney)"
      ],
      "execution_count": null,
      "outputs": [
        {
          "output_type": "execute_result",
          "data": {
            "text/plain": [
              "[<matplotlib.lines.Line2D at 0x7f278c1f5e48>]"
            ]
          },
          "metadata": {
            "tags": []
          },
          "execution_count": 15
        },
        {
          "output_type": "display_data",
          "data": {
            "image/png": "[encoded data removed]",
            "text/plain": [
              "<Figure size 432x288 with 1 Axes>"
            ]
          },
          "metadata": {
            "tags": [],
            "needs_background": "light"
          }
        }
      ]
    }
  ]
}